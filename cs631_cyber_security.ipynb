{
  "nbformat": 4,
  "nbformat_minor": 0,
  "metadata": {
    "colab": {
      "name": "cs631_cyber_security.ipynb",
      "provenance": [],
      "collapsed_sections": [],
      "authorship_tag": "ABX9TyPQnEff7X2s56ZPmlDzK/RA",
      "include_colab_link": true
    },
    "kernelspec": {
      "name": "python3",
      "display_name": "Python 3"
    },
    "language_info": {
      "name": "python"
    }
  },
  "cells": [
    {
      "cell_type": "markdown",
      "metadata": {
        "id": "view-in-github",
        "colab_type": "text"
      },
      "source": [
        "<a href=\"https://colab.research.google.com/github/harsh-sengar/Cyber-Security-CS631/blob/main/cs631_cyber_security.ipynb\" target=\"_parent\"><img src=\"https://colab.research.google.com/assets/colab-badge.svg\" alt=\"Open In Colab\"/></a>"
      ]
    },
    {
      "cell_type": "markdown",
      "metadata": {
        "id": "sFXevItkvzkN"
      },
      "source": [
        "# Anomaly Detection for Cyber Physical Systems using Machine Learning\n",
        "\n",
        "### Goal\n",
        "In this notebook, you will be experimenting with several unsupervised learning models for clustering data.\n",
        "\n",
        "### Objectives\n",
        "1. Developing better anaomaly detection algorithm to detect under attack senarios.\n"
      ]
    },
    {
      "cell_type": "code",
      "metadata": {
        "id": "eZLEOsNLw8hN",
        "colab": {
          "base_uri": "https://localhost:8080/"
        },
        "outputId": "22065474-1645-45dc-f5e6-3a449887b590"
      },
      "source": [
        "from google.colab import drive\n",
        "drive.mount('/content/gdrive')"
      ],
      "execution_count": 469,
      "outputs": [
        {
          "output_type": "stream",
          "name": "stdout",
          "text": [
            "Drive already mounted at /content/gdrive; to attempt to forcibly remount, call drive.mount(\"/content/gdrive\", force_remount=True).\n"
          ]
        }
      ]
    },
    {
      "cell_type": "code",
      "metadata": {
        "colab": {
          "base_uri": "https://localhost:8080/"
        },
        "id": "pzc10_QKxA-r",
        "outputId": "097c4156-1e50-4bfa-a396-7595c72e475e"
      },
      "source": [
        "cd /content/gdrive/MyDrive/IIT Kanpur/CS631/Project/data"
      ],
      "execution_count": 1049,
      "outputs": [
        {
          "output_type": "stream",
          "name": "stdout",
          "text": [
            "/content/gdrive/MyDrive/IIT Kanpur/CS631/Project/data\n"
          ]
        }
      ]
    },
    {
      "cell_type": "code",
      "metadata": {
        "colab": {
          "base_uri": "https://localhost:8080/"
        },
        "id": "cJA1X3Ic3IHp",
        "outputId": "90610410-702a-4478-a78b-41a1d87a97cf"
      },
      "source": [
        "ls"
      ],
      "execution_count": 1050,
      "outputs": [
        {
          "output_type": "stream",
          "name": "stdout",
          "text": [
            "1SA1xmv9_hundred_data_1.csv      4DA1xmv10_359_data_1.csv\n",
            "2SA2xmv6_twentyeight_data_1.csv  5DA2xmeas7_zero_data_1.csv\n",
            "3SA3xmeas10_001_data_1.csv\n"
          ]
        }
      ]
    },
    {
      "cell_type": "code",
      "metadata": {
        "id": "S3__uVgNzATd"
      },
      "source": [
        "from numpy import unique\n",
        "from sklearn.cluster import MiniBatchKMeans\n",
        "from sklearn.cluster import Birch\n",
        "from numpy import where\n",
        "from sklearn.datasets import make_classification\n",
        "from sklearn.cluster import SpectralClustering\n",
        "from sklearn.mixture import GaussianMixture as GMM\n",
        "import numpy as np\n",
        "from sklearn.cluster import KMeans\n",
        "\n",
        "import pandas as pd\n",
        "from scipy.linalg import hankel, eigh\n",
        "from matplotlib import pyplot as plt\n",
        "from matplotlib import style\n",
        "import numpy as np\n",
        "import matplotlib.pyplot as plt\n",
        "import scipy.stats\n",
        "from sklearn import mixture\n",
        "from sklearn.metrics import accuracy_score\n",
        "# Standardize/scale the dataset and apply PCA\n",
        "from sklearn.preprocessing import StandardScaler\n",
        "from sklearn.decomposition import PCA\n",
        "from sklearn.pipeline import make_pipeline"
      ],
      "execution_count": 1051,
      "outputs": []
    },
    {
      "cell_type": "markdown",
      "metadata": {
        "id": "JhLeOlkQv4nQ"
      },
      "source": [
        "#Data Preprocessing"
      ]
    },
    {
      "cell_type": "code",
      "metadata": {
        "id": "VMid2-e731sK"
      },
      "source": [
        "X = np.asarray(pd.read_csv('4DA1xmv10_359_data_1.csv', usecols=[14], header=None))"
      ],
      "execution_count": 1052,
      "outputs": []
    },
    {
      "cell_type": "code",
      "metadata": {
        "id": "ST4n_1Is2ZY2"
      },
      "source": [
        "X_data = np.asarray(pd.read_csv('4DA1xmv10_359_data_1.csv', header=None))"
      ],
      "execution_count": 1053,
      "outputs": []
    },
    {
      "cell_type": "code",
      "metadata": {
        "id": "tYS_6kmN3O2o"
      },
      "source": [
        "df = pd.read_csv('4DA1xmv10_359_data_1.csv',  header=None)"
      ],
      "execution_count": 1054,
      "outputs": []
    },
    {
      "cell_type": "code",
      "metadata": {
        "colab": {
          "base_uri": "https://localhost:8080/",
          "height": 350
        },
        "id": "haaeb7LghKgl",
        "outputId": "86c12b6d-342f-438e-980b-c7fc19914281"
      },
      "source": [
        "# Extract the names of the numerical columns\n",
        "names=df.columns\n",
        "x = df[names]\n",
        "scaler = StandardScaler()\n",
        "pca = PCA()\n",
        "pipeline = make_pipeline(scaler, pca)\n",
        "pipeline.fit(x)\n",
        "# Plot the principal components against their inertia\n",
        "features = range(pca.n_components_)\n",
        "_ = plt.figure(figsize=(15, 5))\n",
        "_ = plt.bar(features, pca.explained_variance_)\n",
        "_ = plt.xlabel('PCA feature')\n",
        "_ = plt.ylabel('Variance')\n",
        "_ = plt.xticks(features)\n",
        "_ = plt.title(\"Importance of the Principal Components based on inertia\")\n",
        "plt.show()"
      ],
      "execution_count": 1055,
      "outputs": [
        {
          "output_type": "display_data",
          "data": {
            "image/png": "[encoded data removed]",
            "text/plain": [
              "<Figure size 1080x360 with 1 Axes>"
            ]
          },
          "metadata": {
            "needs_background": "light"
          }
        }
      ]
    },
    {
      "cell_type": "code",
      "metadata": {
        "id": "YIXCPY8lhRYf"
      },
      "source": [
        "# Calculate PCA with 3 components\n",
        "pca = PCA(n_components=2)\n",
        "principalComponents = pca.fit_transform(x)\n",
        "principalDf = pd.DataFrame(data = principalComponents)"
      ],
      "execution_count": 1056,
      "outputs": []
    },
    {
      "cell_type": "code",
      "metadata": {
        "id": "2d4v1SvKnN_d"
      },
      "source": [
        "X_train, X_test = X_data[:3200,:], X_data[3200:,:]"
      ],
      "execution_count": 1057,
      "outputs": []
    },
    {
      "cell_type": "code",
      "metadata": {
        "id": "y4eSIbWi-k74"
      },
      "source": [
        "X_ran = X_data[np.random.randint(X_data.shape[0], size=800), :]"
      ],
      "execution_count": 1058,
      "outputs": []
    },
    {
      "cell_type": "code",
      "metadata": {
        "id": "RFgoWVAg77vh"
      },
      "source": [
        "X_train_full = X_data[:4000,:]"
      ],
      "execution_count": 1059,
      "outputs": []
    },
    {
      "cell_type": "code",
      "metadata": {
        "id": "Zn7gtznOnZnV"
      },
      "source": [
        "X_train = pd.DataFrame(data = X_train)\n",
        "X_test = pd.DataFrame(data = X_test)"
      ],
      "execution_count": 1060,
      "outputs": []
    },
    {
      "cell_type": "code",
      "metadata": {
        "id": "TsPzr9qvqxaR"
      },
      "source": [
        "y2 = np.zeros(800)\n",
        "y1 = np.ones(801)\n",
        "y_ground = np.append(y1,y2)"
      ],
      "execution_count": 1061,
      "outputs": []
    },
    {
      "cell_type": "code",
      "metadata": {
        "id": "NfhfhWD44eFz"
      },
      "source": [
        "yy = y2"
      ],
      "execution_count": 1062,
      "outputs": []
    },
    {
      "cell_type": "code",
      "metadata": {
        "colab": {
          "base_uri": "https://localhost:8080/"
        },
        "id": "wWRKzTh_vQrw",
        "outputId": "aa2f7e8f-cbbd-4eb5-b10b-dcab25a05649"
      },
      "source": [
        "y_ground"
      ],
      "execution_count": 1063,
      "outputs": [
        {
          "output_type": "execute_result",
          "data": {
            "text/plain": [
              "array([1., 1., 1., ..., 0., 0., 0.])"
            ]
          },
          "metadata": {},
          "execution_count": 1063
        }
      ]
    },
    {
      "cell_type": "markdown",
      "metadata": {
        "id": "xr7uv3LWvgtZ"
      },
      "source": [
        "Elbow Method\n"
      ]
    },
    {
      "cell_type": "code",
      "metadata": {
        "id": "uUV-2jtQvc5f"
      },
      "source": [
        "wcss = [] \n",
        "for i in range(1, 11): \n",
        "    kmeans = MiniBatchKMeans(n_clusters = i, init = 'k-means++', random_state = 42)\n",
        "    kmeans.fit(X_train_full) \n",
        "    wcss.append(kmeans.inertia_)"
      ],
      "execution_count": 1064,
      "outputs": []
    },
    {
      "cell_type": "code",
      "metadata": {
        "colab": {
          "base_uri": "https://localhost:8080/",
          "height": 290
        },
        "id": "smHJfji8vfQu",
        "outputId": "5cf91c94-9506-456d-925b-9efa602aa742"
      },
      "source": [
        "plt.plot(range(1, 11), wcss)\n",
        "plt.xlabel('Number of clusters')\n",
        "plt.ylabel('WCSS') \n",
        "plt.show()"
      ],
      "execution_count": 1065,
      "outputs": [
        {
          "output_type": "display_data",
          "data": {
            "image/png": "[encoded data removed]",
            "text/plain": [
              "<Figure size 432x288 with 1 Axes>"
            ]
          },
          "metadata": {
            "needs_background": "light"
          }
        }
      ]
    },
    {
      "cell_type": "code",
      "metadata": {
        "id": "S7wqLCN-2fDN"
      },
      "source": [
        "wcss = [] \n",
        "for i in range(1, 11): \n",
        "    kmeans = KMeans(n_clusters = i, init = 'k-means++', random_state = 42)\n",
        "    kmeans.fit(X_train_full) \n",
        "    wcss.append(kmeans.inertia_)"
      ],
      "execution_count": 1066,
      "outputs": []
    },
    {
      "cell_type": "code",
      "metadata": {
        "colab": {
          "base_uri": "https://localhost:8080/",
          "height": 290
        },
        "id": "o06J8PO02gQ6",
        "outputId": "29a4e4db-35b6-4f0a-ed8a-ce1c8a271362"
      },
      "source": [
        "plt.plot(range(1, 11), wcss)\n",
        "plt.xlabel('Number of clusters')\n",
        "plt.ylabel('WCSS') \n",
        "plt.show()"
      ],
      "execution_count": 1067,
      "outputs": [
        {
          "output_type": "display_data",
          "data": {
            "image/png": "[encoded data removed]",
            "text/plain": [
              "<Figure size 432x288 with 1 Axes>"
            ]
          },
          "metadata": {
            "needs_background": "light"
          }
        }
      ]
    },
    {
      "cell_type": "markdown",
      "metadata": {
        "id": "1aPQdohYO39p"
      },
      "source": [
        " Akaike information criterion (AIC) or the Bayesian information criterion (BIC)"
      ]
    },
    {
      "cell_type": "code",
      "metadata": {
        "id": "js6cyqu4wOpe"
      },
      "source": [
        "n_components = np.arange(1, 21)\n",
        "models = [GMM(n, covariance_type='full', random_state=0).fit(X_data)\n",
        "          for n in n_components]\n"
      ],
      "execution_count": 1068,
      "outputs": []
    },
    {
      "cell_type": "code",
      "metadata": {
        "colab": {
          "base_uri": "https://localhost:8080/",
          "height": 280
        },
        "id": "vxhaz0snOj4F",
        "outputId": "e0bec964-1a58-44e3-d8ec-30e58931b979"
      },
      "source": [
        "plt.plot(n_components, [m.bic(X_data) for m in models], label='BIC')\n",
        "plt.plot(n_components, [m.aic(X_data) for m in models], label='AIC')\n",
        "plt.legend(loc='best')\n",
        "plt.xlabel('n_components');"
      ],
      "execution_count": 1069,
      "outputs": [
        {
          "output_type": "display_data",
          "data": {
            "image/png": "[encoded data removed]",
            "text/plain": [
              "<Figure size 432x288 with 1 Axes>"
            ]
          },
          "metadata": {
            "needs_background": "light"
          }
        }
      ]
    },
    {
      "cell_type": "code",
      "metadata": {
        "id": "x2wZ9xessUUh"
      },
      "source": [
        "def density_data(X_train, model):\n",
        "  model.fit(X_train)\n",
        "  centers = np.empty(shape=(model.n_components, X_train.shape[1]))\n",
        "  for i in range(model.n_components):\n",
        "      density = scipy.stats.multivariate_normal(cov=model.covariances_[i], mean=model.means_[i]).logpdf(X_train)\n",
        "      print(density, X_train[np.argmax(density)])\n",
        "      "
      ],
      "execution_count": 1070,
      "outputs": []
    },
    {
      "cell_type": "code",
      "metadata": {
        "id": "pSMuziyioxzU"
      },
      "source": [
        "def distance_(data, model):\n",
        "    \"\"\" Function that calculates the distance between a point and centroid of a cluster, \n",
        "            returns the distances in pandas series\"\"\"\n",
        "    distance = []\n",
        "    for i in range(0,len(data)):\n",
        "        Xa = np.array(data.loc[i])\n",
        "        Xb = model.cluster_centers_\n",
        "        dis = 10000\n",
        "        for j in range(0, len(model.cluster_centers_)):\n",
        "            dis = min(dis, np.linalg.norm(Xa-Xb))\n",
        "        distance.append(dis)\n",
        "    return pd.Series(distance, index=data.index)"
      ],
      "execution_count": 1071,
      "outputs": []
    },
    {
      "cell_type": "markdown",
      "metadata": {
        "id": "1nvHHVLGvyJz"
      },
      "source": [
        "#K-Means Clustering"
      ]
    },
    {
      "cell_type": "code",
      "metadata": {
        "id": "Rd-szOET4EHF",
        "colab": {
          "base_uri": "https://localhost:8080/",
          "height": 265
        },
        "outputId": "6da67faa-8106-4d60-ae00-29db6692fd04"
      },
      "source": [
        "# model = MiniBatchKMeans(n_clusters=4)\n",
        "model = KMeans(n_clusters=1, random_state=42)\n",
        "model.fit(X_train.values)\n",
        "labels = model.predict(X_train.values)\n",
        "unique_elements, counts_elements = np.unique(labels, return_counts=True)\n",
        "# clusters = np.asarray((unique_elements, counts_elements))\n",
        "clusters = unique(labels)\n",
        "# create scatter plot for samples from each cluster\n",
        "for cluster in clusters:\n",
        "\t# get row indexes for samples with this cluster\n",
        "\trow_ix = where(labels == cluster)\n",
        "\t# create scatter of these samples\n",
        "\tplt.scatter(X_data[row_ix, 0], X_data[row_ix, 1])\n",
        "# show the plot\n",
        "plt.show()"
      ],
      "execution_count": 1072,
      "outputs": [
        {
          "output_type": "display_data",
          "data": {
            "image/png": "[encoded data removed]",
            "text/plain": [
              "<Figure size 432x288 with 1 Axes>"
            ]
          },
          "metadata": {
            "needs_background": "light"
          }
        }
      ]
    },
    {
      "cell_type": "code",
      "metadata": {
        "id": "IiH-Rd5ZPNht"
      },
      "source": [
        "distance = distance_(X_train, model)\n",
        "outliers_fraction = 0.20\n",
        "\n",
        "# get the distance between each point and its nearest centroid. The biggest distances are considered as anomaly\n",
        "number_of_outliers = int(outliers_fraction*len(distance))\n",
        "threshold = distance.nlargest(number_of_outliers).min()"
      ],
      "execution_count": 1073,
      "outputs": []
    },
    {
      "cell_type": "code",
      "metadata": {
        "colab": {
          "base_uri": "https://localhost:8080/"
        },
        "id": "4ljdZggfPSOx",
        "outputId": "774433da-8792-490d-d224-63764f7eb951"
      },
      "source": [
        "threshold"
      ],
      "execution_count": 1074,
      "outputs": [
        {
          "output_type": "execute_result",
          "data": {
            "text/plain": [
              "35.58592934561788"
            ]
          },
          "metadata": {},
          "execution_count": 1074
        }
      ]
    },
    {
      "cell_type": "code",
      "metadata": {
        "id": "F1IP6OeXPUuT"
      },
      "source": [
        "distance_test = distance_(X_test, model)"
      ],
      "execution_count": 1075,
      "outputs": []
    },
    {
      "cell_type": "code",
      "metadata": {
        "id": "LOqdrNTaPXiX"
      },
      "source": [
        "y_test = (distance_test <= threshold).astype(int)"
      ],
      "execution_count": 1076,
      "outputs": []
    },
    {
      "cell_type": "code",
      "metadata": {
        "id": "wc9_qB71PbIB"
      },
      "source": [
        "unique_elements, counts_elements = np.unique(y_test, return_counts=True)"
      ],
      "execution_count": 1077,
      "outputs": []
    },
    {
      "cell_type": "code",
      "metadata": {
        "colab": {
          "base_uri": "https://localhost:8080/"
        },
        "id": "TL2zDoImPe0K",
        "outputId": "52c23e86-9753-4f39-9b74-2a0740e48227"
      },
      "source": [
        "unique_elements, counts_elements"
      ],
      "execution_count": 1078,
      "outputs": [
        {
          "output_type": "execute_result",
          "data": {
            "text/plain": [
              "(array([0, 1]), array([ 469, 1132]))"
            ]
          },
          "metadata": {},
          "execution_count": 1078
        }
      ]
    },
    {
      "cell_type": "code",
      "metadata": {
        "colab": {
          "base_uri": "https://localhost:8080/"
        },
        "id": "suJr68pwPiIH",
        "outputId": "1469e50a-3bf5-416c-da18-e300f478f40c"
      },
      "source": [
        "accuracy_score(y_ground, y_test)"
      ],
      "execution_count": 1079,
      "outputs": [
        {
          "output_type": "execute_result",
          "data": {
            "text/plain": [
              "0.5858838226108682"
            ]
          },
          "metadata": {},
          "execution_count": 1079
        }
      ]
    },
    {
      "cell_type": "code",
      "metadata": {
        "colab": {
          "base_uri": "https://localhost:8080/"
        },
        "id": "vV4p35ObWoem",
        "outputId": "bfb61f95-495a-4c8d-c4bb-a4095e55eec3"
      },
      "source": [
        "accuracy_score(y1, y_test[800:])"
      ],
      "execution_count": 1080,
      "outputs": [
        {
          "output_type": "execute_result",
          "data": {
            "text/plain": [
              "0.6217228464419475"
            ]
          },
          "metadata": {},
          "execution_count": 1080
        }
      ]
    },
    {
      "cell_type": "markdown",
      "metadata": {
        "id": "d-F24gkFut8R"
      },
      "source": [
        "# MiniBatchKMeans with Reduces Dimentionality"
      ]
    },
    {
      "cell_type": "code",
      "metadata": {
        "id": "EFmC-E0FCbTz"
      },
      "source": [
        "# Calculate PCA with 3 components\n",
        "pca = PCA(n_components=2)\n",
        "principalComponents = pca.fit_transform(X_train)\n",
        "principalDf_train = pd.DataFrame(data = principalComponents)"
      ],
      "execution_count": 1081,
      "outputs": []
    },
    {
      "cell_type": "code",
      "metadata": {
        "id": "SL4CuT2hChef"
      },
      "source": [
        "# Calculate PCA with 3 components\n",
        "pca = PCA(n_components=2)\n",
        "principalComponents = pca.fit_transform(X_test)\n",
        "principalDf_test = pd.DataFrame(data = principalComponents)"
      ],
      "execution_count": 1082,
      "outputs": []
    },
    {
      "cell_type": "code",
      "metadata": {
        "colab": {
          "base_uri": "https://localhost:8080/",
          "height": 265
        },
        "id": "Hdo9GKvM9mCb",
        "outputId": "1fe1d5f7-2cfb-41fc-faae-2cd699fb4384"
      },
      "source": [
        "model = MiniBatchKMeans(n_clusters=1)\n",
        "# model = KMeans(n_clusters=4, random_state=42)\n",
        "model.fit(principalDf_train.values)\n",
        "labels = model.predict(principalDf_train.values)\n",
        "unique_elements, counts_elements = np.unique(labels, return_counts=True)\n",
        "# clusters = np.asarray((unique_elements, counts_elements))\n",
        "clusters = unique(labels)\n",
        "# create scatter plot for samples from each cluster\n",
        "for cluster in clusters:\n",
        "\t# get row indexes for samples with this cluster\n",
        "\trow_ix = where(labels == cluster)\n",
        "\t# create scatter of these samples\n",
        "\tplt.scatter(X_data[row_ix, 0], X_data[row_ix, 1])\n",
        "# show the plot\n",
        "plt.show()"
      ],
      "execution_count": 1083,
      "outputs": [
        {
          "output_type": "display_data",
          "data": {
            "image/png": "[encoded data removed]",
            "text/plain": [
              "<Figure size 432x288 with 1 Axes>"
            ]
          },
          "metadata": {
            "needs_background": "light"
          }
        }
      ]
    },
    {
      "cell_type": "code",
      "metadata": {
        "id": "5v7c6WMIxKyC"
      },
      "source": [
        "distance = distance_(principalDf_train, model)\n",
        "outliers_fraction = 0.25\n",
        "\n",
        "# get the distance between each point and its nearest centroid. The biggest distances are considered as anomaly\n",
        "number_of_outliers = int(outliers_fraction*len(distance))\n",
        "threshold = distance.nlargest(number_of_outliers).min()"
      ],
      "execution_count": 1084,
      "outputs": []
    },
    {
      "cell_type": "code",
      "metadata": {
        "colab": {
          "base_uri": "https://localhost:8080/"
        },
        "id": "dvl0YjhX3643",
        "outputId": "c02c266f-71d5-489f-cc53-64e09654cd1e"
      },
      "source": [
        "threshold\n"
      ],
      "execution_count": 1085,
      "outputs": [
        {
          "output_type": "execute_result",
          "data": {
            "text/plain": [
              "33.06412213935833"
            ]
          },
          "metadata": {},
          "execution_count": 1085
        }
      ]
    },
    {
      "cell_type": "code",
      "metadata": {
        "id": "CUlSsmxlxVR8"
      },
      "source": [
        "distance_test = distance_(principalDf_test, model)"
      ],
      "execution_count": 1086,
      "outputs": []
    },
    {
      "cell_type": "code",
      "metadata": {
        "id": "PaSz6OySxZKp"
      },
      "source": [
        "y_test = (distance_test <= threshold).astype(int)"
      ],
      "execution_count": 1087,
      "outputs": []
    },
    {
      "cell_type": "code",
      "metadata": {
        "id": "9-p6sjaFxcfx"
      },
      "source": [
        "unique_elements, counts_elements = np.unique(y_test, return_counts=True)"
      ],
      "execution_count": 1088,
      "outputs": []
    },
    {
      "cell_type": "code",
      "metadata": {
        "id": "Rxkaj5znxh3M",
        "colab": {
          "base_uri": "https://localhost:8080/"
        },
        "outputId": "b597498e-621d-4e9f-d448-9631b16af991"
      },
      "source": [
        "unique_elements, counts_elements"
      ],
      "execution_count": 1089,
      "outputs": [
        {
          "output_type": "execute_result",
          "data": {
            "text/plain": [
              "(array([0, 1]), array([ 460, 1141]))"
            ]
          },
          "metadata": {},
          "execution_count": 1089
        }
      ]
    },
    {
      "cell_type": "code",
      "metadata": {
        "id": "RkJSBLndxh6B",
        "colab": {
          "base_uri": "https://localhost:8080/"
        },
        "outputId": "086c5085-4017-46e7-a7ba-5fd7f7ae6843"
      },
      "source": [
        "accuracy_score(y_ground, y_test)"
      ],
      "execution_count": 1090,
      "outputs": [
        {
          "output_type": "execute_result",
          "data": {
            "text/plain": [
              "0.5402873204247346"
            ]
          },
          "metadata": {},
          "execution_count": 1090
        }
      ]
    },
    {
      "cell_type": "code",
      "metadata": {
        "colab": {
          "base_uri": "https://localhost:8080/"
        },
        "id": "tOMRzBtvRKyV",
        "outputId": "76ffbc7b-8ba8-44d2-aca7-a49cf058d578"
      },
      "source": [
        "accuracy_score(y1, y_test[800:])"
      ],
      "execution_count": 1091,
      "outputs": [
        {
          "output_type": "execute_result",
          "data": {
            "text/plain": [
              "0.6729088639200999"
            ]
          },
          "metadata": {},
          "execution_count": 1091
        }
      ]
    },
    {
      "cell_type": "markdown",
      "metadata": {
        "id": "15q0xI2VRLTS"
      },
      "source": [
        "### t-SNE"
      ]
    },
    {
      "cell_type": "code",
      "metadata": {
        "id": "LVVVr9SLbc7k",
        "colab": {
          "base_uri": "https://localhost:8080/",
          "height": 334
        },
        "outputId": "19da72ef-dac4-4c75-a3bf-3eb15178e528"
      },
      "source": [
        "from sklearn.manifold import TSNE\n",
        "from scipy.stats import mode\n",
        "\n",
        "# Project the data: this step will take several seconds\n",
        "tsne = TSNE(n_components=2, init='random', random_state=0)\n",
        "data_proj = tsne.fit_transform(X_train)\n",
        "data_proj_test = tsne.fit_transform(X_test)\n",
        "# Compute the clusters\n",
        "kmeans = KMeans(n_clusters=1, random_state=0)\n",
        "clusters = kmeans.fit_predict(data_proj)\n",
        "# create scatter plot for samples from each cluster\n",
        "for cluster in clusters:\n",
        "\t# get row indexes for samples with this cluster\n",
        "\trow_ix = where(labels == cluster)\n",
        "\t# create scatter of these samples\n",
        "\tplt.scatter(X_data[row_ix, 0], X_data[row_ix, 1])\n",
        "# show the plot\n",
        "plt.show()\n",
        "\n",
        "# Compute the accuracy\n",
        "# accuracy_score(y_ground, labels)"
      ],
      "execution_count": 1092,
      "outputs": [
        {
          "output_type": "stream",
          "name": "stderr",
          "text": [
            "/usr/local/lib/python3.7/dist-packages/sklearn/manifold/_t_sne.py:793: FutureWarning: The default learning rate in TSNE will change from 200.0 to 'auto' in 1.2.\n",
            "  FutureWarning,\n",
            "/usr/local/lib/python3.7/dist-packages/sklearn/manifold/_t_sne.py:793: FutureWarning: The default learning rate in TSNE will change from 200.0 to 'auto' in 1.2.\n",
            "  FutureWarning,\n"
          ]
        },
        {
          "output_type": "display_data",
          "data": {
            "image/png": "[encoded data removed]",
            "text/plain": [
              "<Figure size 432x288 with 1 Axes>"
            ]
          },
          "metadata": {
            "needs_background": "light"
          }
        }
      ]
    },
    {
      "cell_type": "code",
      "metadata": {
        "id": "iT7BOO_TSAT_"
      },
      "source": [
        "data_proj = pd.DataFrame(data = data_proj)\n",
        "data_proj_test = pd.DataFrame(data = data_proj_test)"
      ],
      "execution_count": 1093,
      "outputs": []
    },
    {
      "cell_type": "code",
      "metadata": {
        "id": "IMhZ2ERuDm9q"
      },
      "source": [
        "labels = kmeans.predict(data_proj_test)"
      ],
      "execution_count": 1094,
      "outputs": []
    },
    {
      "cell_type": "code",
      "metadata": {
        "id": "FLqztlpZESlK"
      },
      "source": [
        "distance = distance_(data_proj, model)\n",
        "outliers_fraction = 0.6\n",
        "\n",
        "# get the distance between each point and its nearest centroid. The biggest distances are considered as anomaly\n",
        "number_of_outliers = int(outliers_fraction*len(distance))\n",
        "threshold = distance.nlargest(number_of_outliers).min()"
      ],
      "execution_count": 1095,
      "outputs": []
    },
    {
      "cell_type": "code",
      "metadata": {
        "colab": {
          "base_uri": "https://localhost:8080/"
        },
        "id": "SZmDFEJKRenV",
        "outputId": "097988e6-ffb0-458c-c864-0c8e3ea5ee66"
      },
      "source": [
        "threshold\n"
      ],
      "execution_count": 1096,
      "outputs": [
        {
          "output_type": "execute_result",
          "data": {
            "text/plain": [
              "37.57039661422777"
            ]
          },
          "metadata": {},
          "execution_count": 1096
        }
      ]
    },
    {
      "cell_type": "code",
      "metadata": {
        "id": "cin_NwhqReqP"
      },
      "source": [
        "distance_test = distance_(data_proj_test, model)"
      ],
      "execution_count": 1097,
      "outputs": []
    },
    {
      "cell_type": "code",
      "metadata": {
        "id": "fFecdowIRevq"
      },
      "source": [
        "y_test = (distance_test <= threshold).astype(int)"
      ],
      "execution_count": 1098,
      "outputs": []
    },
    {
      "cell_type": "code",
      "metadata": {
        "id": "c6--AChPRey-"
      },
      "source": [
        "unique_elements, counts_elements = np.unique(y_test, return_counts=True)"
      ],
      "execution_count": 1099,
      "outputs": []
    },
    {
      "cell_type": "code",
      "metadata": {
        "colab": {
          "base_uri": "https://localhost:8080/"
        },
        "id": "NqhxT_7iRe2-",
        "outputId": "1234211b-0583-4739-84fe-1ca2c4e17276"
      },
      "source": [
        "unique_elements, counts_elements"
      ],
      "execution_count": 1100,
      "outputs": [
        {
          "output_type": "execute_result",
          "data": {
            "text/plain": [
              "(array([0, 1]), array([ 568, 1033]))"
            ]
          },
          "metadata": {},
          "execution_count": 1100
        }
      ]
    },
    {
      "cell_type": "code",
      "metadata": {
        "colab": {
          "base_uri": "https://localhost:8080/"
        },
        "id": "m8Bl766jRyKG",
        "outputId": "883724b6-e92d-43e5-9f70-03b7bb8d0285"
      },
      "source": [
        "accuracy_score(y_ground, y_test)"
      ],
      "execution_count": 1101,
      "outputs": [
        {
          "output_type": "execute_result",
          "data": {
            "text/plain": [
              "0.5840099937539038"
            ]
          },
          "metadata": {},
          "execution_count": 1101
        }
      ]
    },
    {
      "cell_type": "code",
      "metadata": {
        "colab": {
          "base_uri": "https://localhost:8080/"
        },
        "id": "OJF6stcORySG",
        "outputId": "538516e6-af34-490a-86b6-a3d360fd1785"
      },
      "source": [
        "accuracy_score(y1, y_test[800:])"
      ],
      "execution_count": 1102,
      "outputs": [
        {
          "output_type": "execute_result",
          "data": {
            "text/plain": [
              "0.5617977528089888"
            ]
          },
          "metadata": {},
          "execution_count": 1102
        }
      ]
    },
    {
      "cell_type": "markdown",
      "metadata": {
        "id": "p5fUON6XSvDF"
      },
      "source": [
        "#Gaussian Mixture Model"
      ]
    },
    {
      "cell_type": "code",
      "metadata": {
        "id": "1wluDzWexBDh"
      },
      "source": [
        "model_GMM = GaussianMixture(n_components=2)\n",
        "\n",
        "model_GMM.fit(X_data)\n",
        "\n",
        "# predict probabilities\n",
        "yhat = model_GMM.predict(X_test[800:])\n",
        "# retrieve unique clusters \n",
        "clusters = unique(yhat)\n",
        "# create scatter plot for samples from each cluster\n",
        "# for cluster in clusters:\n",
        "# \t# get row indexes for samples with this cluster\n",
        "# \trow_ix = where(yhat == cluster)\n",
        "# \t# create scatter of these samples\n",
        "# \tplt.scatter(X_data[row_ix, 0], X_data[row_ix, 1])\n",
        "# # show the plot\n",
        "# plt.show()"
      ],
      "execution_count": 1147,
      "outputs": []
    },
    {
      "cell_type": "code",
      "metadata": {
        "id": "OSzG67CRnArK"
      },
      "source": [
        "model_GMM = GaussianMixture(n_components=2)\n",
        "model_GMM.fit(X_data)\n",
        "# predict probabilities\n",
        "lr_probs = model_GMM.predict_proba(X_test)"
      ],
      "execution_count": 1148,
      "outputs": []
    },
    {
      "cell_type": "code",
      "metadata": {
        "id": "HDx4kinSIbOX"
      },
      "source": [
        "X_data_new = (pd.read_csv('4DA1xmv10_359_data_1.csv', header=None))"
      ],
      "execution_count": 1149,
      "outputs": []
    },
    {
      "cell_type": "code",
      "metadata": {
        "id": "gsGydpaAIj5U"
      },
      "source": [
        "X_test_new = X_data_new[4000:]"
      ],
      "execution_count": 1150,
      "outputs": []
    },
    {
      "cell_type": "code",
      "metadata": {
        "id": "eJNQiCq_nABR"
      },
      "source": [
        "lr_probs = lr_probs[:,0]"
      ],
      "execution_count": 1151,
      "outputs": []
    },
    {
      "cell_type": "code",
      "metadata": {
        "id": "jJKLXoqsnAEQ"
      },
      "source": [
        "labels = (lr_probs <= 0.5).astype(int)"
      ],
      "execution_count": 1152,
      "outputs": []
    },
    {
      "cell_type": "code",
      "metadata": {
        "id": "tfoFo2CHIm4x",
        "colab": {
          "base_uri": "https://localhost:8080/"
        },
        "outputId": "3fe7cb22-2add-4795-ddb7-e4033581000e"
      },
      "source": [
        "accuracy_score(y_ground, labels)"
      ],
      "execution_count": 1153,
      "outputs": [
        {
          "output_type": "execute_result",
          "data": {
            "text/plain": [
              "0.933791380387258"
            ]
          },
          "metadata": {},
          "execution_count": 1153
        }
      ]
    },
    {
      "cell_type": "code",
      "metadata": {
        "id": "ISxw46tdI-qk"
      },
      "source": [
        "lr_probs_new = model_GMM.predict_proba(X_test_new)"
      ],
      "execution_count": 1154,
      "outputs": []
    },
    {
      "cell_type": "code",
      "metadata": {
        "id": "8qCiBpABJCRF"
      },
      "source": [
        "lr_probs_new = lr_probs_new[:, 0]"
      ],
      "execution_count": 1155,
      "outputs": []
    },
    {
      "cell_type": "code",
      "metadata": {
        "id": "L4BJDY5NJCTy"
      },
      "source": [
        "labels = (lr_probs_new <= 0.5).astype(int)"
      ],
      "execution_count": 1156,
      "outputs": []
    },
    {
      "cell_type": "code",
      "metadata": {
        "colab": {
          "base_uri": "https://localhost:8080/"
        },
        "id": "dnA0JrLmHt5r",
        "outputId": "9a9c3fed-2660-4dd8-dfd2-97c477eef45f"
      },
      "source": [
        "accuracy_score(y_ground[800:], labels)"
      ],
      "execution_count": 1157,
      "outputs": [
        {
          "output_type": "execute_result",
          "data": {
            "text/plain": [
              "0.867665418227216"
            ]
          },
          "metadata": {},
          "execution_count": 1157
        }
      ]
    },
    {
      "cell_type": "code",
      "metadata": {
        "id": "yiNK2SfIbCHS"
      },
      "source": [
        ""
      ],
      "execution_count": 1135,
      "outputs": []
    },
    {
      "cell_type": "code",
      "metadata": {
        "id": "seXwSna5cDbX"
      },
      "source": [
        ""
      ],
      "execution_count": 1048,
      "outputs": []
    },
    {
      "cell_type": "code",
      "metadata": {
        "colab": {
          "base_uri": "https://localhost:8080/",
          "height": 331
        },
        "id": "0uyCIDDds0Ts",
        "outputId": "c6650bae-da0c-475e-e90a-ef55119979ac"
      },
      "source": [
        "from sklearn.datasets import make_classification\n",
        "from sklearn.linear_model import LogisticRegression\n",
        "from sklearn.model_selection import train_test_split\n",
        "from sklearn.metrics import roc_curve\n",
        "from sklearn.metrics import roc_auc_score\n",
        "from matplotlib import pyplot\n",
        "\n",
        "ns_probs = [0 for _ in range((1601))]\n",
        "# fit a model\n",
        "model_GMM = GaussianMixture(n_components=2)\n",
        "\n",
        "model_GMM.fit(X_data)\n",
        "\n",
        "# predict probabilities\n",
        "lr_probs = model_GMM.predict_proba(X_test)\n",
        "# print(lr_probs)\n",
        "# keep probabilities for the positive outcome only\n",
        "lr_probs = lr_probs[:, 0]\n",
        "# print(lr_probs)\n",
        "# calculate scores\n",
        "ns_auc = roc_auc_score(y_ground, ns_probs)\n",
        "lr_auc = roc_auc_score(y_ground, lr_probs)\n",
        "# summarize scores\n",
        "print(': ROC AUC=%.3f' % (ns_auc))\n",
        "print(': ROC AUC=%.3f' % (lr_auc))\n",
        "# calculate roc curves\n",
        "ns_fpr, ns_tpr, _ = roc_curve(y_ground, ns_probs)\n",
        "lr_fpr, lr_tpr, _ = roc_curve(y_ground, lr_probs)\n",
        "# plot the roc curve for the model\n",
        "pyplot.plot(ns_fpr, ns_tpr, linestyle='--', label='')\n",
        "pyplot.plot(lr_fpr, lr_tpr, marker='.', label='')\n",
        "# axis labels\n",
        "pyplot.xlabel('False Positive Rate')\n",
        "pyplot.ylabel('True Positive Rate')\n",
        "# show the legend\n",
        "pyplot.legend()\n",
        "# show the plot\n",
        "pyplot.show()"
      ],
      "execution_count": 962,
      "outputs": [
        {
          "output_type": "stream",
          "name": "stderr",
          "text": [
            "No handles with labels found to put in legend.\n"
          ]
        },
        {
          "output_type": "stream",
          "name": "stdout",
          "text": [
            ": ROC AUC=0.500\n",
            ": ROC AUC=0.031\n"
          ]
        },
        {
          "output_type": "display_data",
          "data": {
            "image/png": "[encoded data removed]",
            "text/plain": [
              "<Figure size 432x288 with 1 Axes>"
            ]
          },
          "metadata": {
            "needs_background": "light"
          }
        }
      ]
    },
    {
      "cell_type": "markdown",
      "metadata": {
        "id": "jOjEeVNzSp64"
      },
      "source": [
        "#PASAD\n"
      ]
    },
    {
      "cell_type": "code",
      "metadata": {
        "id": "eGLdKIjbSnBG"
      },
      "source": [
        ""
      ],
      "execution_count": null,
      "outputs": []
    },
    {
      "cell_type": "code",
      "metadata": {
        "id": "Y_xgzKc84Dj-"
      },
      "source": [
        "X_train_ = X[:500] # For training \n",
        "X_val = X[250:4000] # For Validation and Thresold calculation\n",
        "X_test = X[3750:] # For detection"
      ],
      "execution_count": null,
      "outputs": []
    },
    {
      "cell_type": "code",
      "metadata": {
        "id": "jtKgIYiv3OZC"
      },
      "source": [
        "N = len(X_train)\n",
        "L = N // 2\n",
        "X_train = hankel(X_train_[:L],X_train_[L-1:]) # Creating trajectory matrix"
      ],
      "execution_count": null,
      "outputs": []
    },
    {
      "cell_type": "code",
      "metadata": {
        "colab": {
          "base_uri": "https://localhost:8080/",
          "height": 530
        },
        "id": "7g4bfqDw31Rk",
        "outputId": "2ed15aee-0403-4c9e-c625-98eceab979fa"
      },
      "source": [
        "eigenValues, eigenVectors = eigh(np.matmul(X_train, X_train.T))\n",
        "idx = eigenValues.argsort()[::-1]\n",
        "eigenValues = eigenValues[idx]\n",
        "eigenVectors = eigenVectors[:,idx]\n",
        "# Sree plot\n",
        "fig, ax = plt.subplots(1, 1, figsize=(10,8))\n",
        "ax.plot(eigenValues)\n",
        "ax.set_title(\"Screeplot\")\n",
        "ax.set_ylabel(\"Eigen value ->\")\n",
        "ax.set_xlabel(\"Cardinal Number of Eigen value ->\")"
      ],
      "execution_count": null,
      "outputs": [
        {
          "output_type": "execute_result",
          "data": {
            "text/plain": [
              "Text(0.5, 0, 'Cardinal Number of Eigen value ->')"
            ]
          },
          "metadata": {},
          "execution_count": 51
        },
        {
          "output_type": "display_data",
          "data": {
            "image/png": "[encoded data removed]",
            "text/plain": [
              "<Figure size 720x576 with 1 Axes>"
            ]
          },
          "metadata": {
            "needs_background": "light"
          }
        }
      ]
    },
    {
      "cell_type": "code",
      "metadata": {
        "id": "Vnlmhqify_1o"
      },
      "source": [
        "# From the above scree plot, it is seen that the first eigen value is more \n",
        "# significant and the other eigen values are close to zero. Thus we choose r as 1\n",
        "# and then we compute the U for projection and centroid in the signal subspace\n",
        "r = 1\n",
        "# Extracted Training signals\n",
        "U, Sigma, V = np.linalg.svd(X_train)\n",
        "V = V.T\n",
        "# d = np.linalg.matrix_rank(X_train)\n",
        "X_elem = np.array( [Sigma[i] * np.outer(U[:,i], V[:,i]) for i in range(0,r)] )\n",
        "X_train_extracted = X_elem.sum(axis=0)\n",
        "X_train_extracted_data = np.asarray(list(X_train_extracted[:,0]) + list(X_train_extracted[:,-1]))\n",
        "\n",
        "U = eigenVectors[:,:r] # r as statistical dimension\n",
        "UT = U.T\n",
        "pX = np.matmul(UT,X_train_extracted)\n",
        "centroid = np.mean(pX, axis=1)\n",
        "centroid = centroid[:,np.newaxis]"
      ],
      "execution_count": null,
      "outputs": []
    },
    {
      "cell_type": "code",
      "metadata": {
        "id": "fkZ2k1sHxBGK",
        "colab": {
          "base_uri": "https://localhost:8080/"
        },
        "outputId": "a64bbded-a7f1-4561-d7f9-2a9e557ce1ae"
      },
      "source": [
        "# Calculating the departure threshold in signal subspace using centroid and UT\n",
        "\n",
        "#For training phase\n",
        "Xtrg = hankel(X_train_[:L], X_train_[L-1:])\n",
        "pXtrg = np.matmul(UT,Xtrg)\n",
        "dtrg_matrix = centroid - pXtrg\n",
        "dtrg_scores = np.linalg.norm(dtrg_matrix, axis=0, ord=2)\n",
        "\n",
        "# For Validation phase and threshold calculation\n",
        "Xt = hankel(X_val[:L],X_val[L-1:])\n",
        "pXt = np.matmul(UT,Xt)\n",
        "dt_matrix = centroid - pXt\n",
        "dt_scores = np.linalg.norm(dt_matrix, axis=0, ord=2)\n",
        "# d_scores = np.asarray([np.matmul(d_matrix[:,i].T, d_matrix[:,i]) for i in range(d_matrix.shape[1])])\n",
        "dt_theta = np.max(dt_scores)\n",
        "dt_theta"
      ],
      "execution_count": null,
      "outputs": [
        {
          "output_type": "execute_result",
          "data": {
            "text/plain": [
              "5.0921005847550305"
            ]
          },
          "metadata": {},
          "execution_count": 53
        }
      ]
    },
    {
      "cell_type": "code",
      "metadata": {
        "id": "bR5NDiyqxBJG"
      },
      "source": [
        "Xj = hankel(X_test[:L],X_test[L-1:])"
      ],
      "execution_count": null,
      "outputs": []
    },
    {
      "cell_type": "code",
      "metadata": {
        "id": "YKLzdq8UxBLK",
        "colab": {
          "base_uri": "https://localhost:8080/"
        },
        "outputId": "ca5e366d-d848-413d-8df3-23289f18ddeb"
      },
      "source": [
        "pXj = np.matmul(UT, Xj)\n",
        "dj_matrix = centroid - pXj\n",
        "dj_scores = np.linalg.norm(dj_matrix, axis=0, ord=2)\n",
        "# dj_scores = [np.matmul(dj_matrix[:,i].T, dj_matrix[:,i]) for i in range(dj_matrix.shape[1])]\n",
        "dj_scores = np.asarray(dj_scores)\n",
        "np.max(dj_scores)"
      ],
      "execution_count": null,
      "outputs": [
        {
          "output_type": "execute_result",
          "data": {
            "text/plain": [
              "117.31233281822881"
            ]
          },
          "metadata": {},
          "execution_count": 55
        }
      ]
    },
    {
      "cell_type": "code",
      "metadata": {
        "id": "nce1Rx3JxBNr",
        "colab": {
          "base_uri": "https://localhost:8080/",
          "height": 641
        },
        "outputId": "23f69ab3-bae3-479d-abeb-13f37d8d6744"
      },
      "source": [
        "#Testing Plots and Subplots\n",
        "style.use('default')\n",
        "box = dict(facecolor='yellow', pad=3, alpha=0.2)\n",
        "fig = plt.figure(figsize=(10,7))\n",
        "ax1 = fig.add_subplot(211)\n",
        "ax2 = fig.add_subplot(212)\n",
        "\n",
        "ax1.set_xlim(0,5000)\n",
        "ax2.set_xlim(0,5000)\n",
        "# ax2.set_ylim(0,10)\n",
        "\n",
        "plt.subplots_adjust(hspace =0.3)\n",
        "\n",
        "xlables = list(range(0,5000,10)) # for both plots\n",
        "\n",
        "# Plotting signal reading\n",
        "xmeasx_1 = list(range(501))\n",
        "xmeasx_2 = list(range(501, 4001))\n",
        "xmeasx_3 = list(range(4001,len(X)))\n",
        "ax1.plot(xmeasx_1, X[:501] ,'b', label='Training') # Plot of Training Data\n",
        "ax1.plot(xmeasx_2, X[501:4001] ,'k', label='Threshold calculation') # Plot of Threshold Determination Data\n",
        "ax1.plot(xmeasx_3, X[4001:] ,'r', label='Detection') # Plot of Detection Phase\n",
        "ax1.plot(X_train_extracted_data, 'g', linewidth=1, label='Extracted Signal' )\n",
        "ax1.set_xticklabels(xlables)\n",
        "ax1.title.set_text('Direct Attack 1 Scenario')\n",
        "ax1.set_ylabel('Sensor Reading', bbox=box)\n",
        "ylim = list(ax1.get_ylim())\n",
        "ax1.vlines(4000,ylim[0],ylim[1],linestyles='dashed', colors='r')\n",
        "X = np.array([[4000,5000],[4000,5000]])\n",
        "Y = np.array([[ylim[0],ylim[0]],[ylim[1],ylim[1]]])\n",
        "C = np.array([[4000,4500]])\n",
        "ax1.pcolormesh(X, Y, C, cmap='cool_r', alpha=0.2)\n",
        "ax1.legend(loc='best', ncol=4)\n",
        "\n",
        "\n",
        "# Plotting departure score\n",
        "dy = dtrg_scores\n",
        "dx = list(range(L,len(dy)+L))\n",
        "ax2.plot(dx, dy, 'c', label='Training phase')\n",
        "dy = dt_scores\n",
        "dx = list(range(500,len(dy)+500))\n",
        "ax2.plot(dx, dy, 'b', label='Threshold calculation')\n",
        "dy = dj_scores\n",
        "dx = list(range(4000,len(dy)+4000))\n",
        "ax2.plot(dx, dy, 'r', label='Detection Phase')\n",
        "ylim = list(ax2.get_ylim())\n",
        "ax2.vlines(4000,ylim[0],ylim[1],linestyles='dashed', colors='r')\n",
        "ax2.set_xticklabels(xlables)\n",
        "ax2.hlines(dt_theta,0,5000,linestyles='dashed', label='Alarm Threshold')\n",
        "ax2.set_xlabel('Time in hours', bbox=box)\n",
        "ax2.set_ylabel('Departure Score', bbox=box)\n",
        "\n",
        "X = np.array([[4000,5000],[4000,5000]])\n",
        "Y = np.array([[ylim[0],ylim[0]],[ylim[1],ylim[1]]])\n",
        "C = np.array([[4000,4500]])\n",
        "ax2.pcolormesh(X, Y, C, cmap='cool_r', alpha=0.2)\n",
        "ax2.legend(loc='upper left')\n",
        "fig.align_ylabels([ax1,ax2])"
      ],
      "execution_count": null,
      "outputs": [
        {
          "output_type": "display_data",
          "data": {
            "image/png": "[encoded data removed]",
            "text/plain": [
              "<Figure size 1000x700 with 2 Axes>"
            ]
          },
          "metadata": {}
        }
      ]
    },
    {
      "cell_type": "code",
      "metadata": {
        "id": "BAXsZxEuxBRy"
      },
      "source": [
        "import numpy as np\n",
        "from numpy import linalg\n",
        "from scipy.linalg import hankel\n",
        "from numpy import genfromtxt\n",
        "import matplotlib.pyplot as plt\n",
        "from matplotlib.backends.backend_pdf import PdfPages\n",
        "import sys\n",
        "\n",
        "arguments=sys.argv[2:]\n",
        "count=len(arguments)\n",
        "r=1\n",
        "\n",
        "def PASAD_TRAIN(train,n,l):\n",
        "\tX=hankel(train[0:l],train[l:n])\n",
        "\tu,s,vt = linalg.svd(X)\n",
        "\tU = u[:,:r]\n",
        "\treturn U.T\n",
        "\n",
        "\n",
        "data=genfromtxt(sys.argv[1], delimiter=\",\")\n",
        "train_1=data[:500,:]\n",
        "train_2=data[500:4000,:]\n",
        "test=data[4000:4800,:]\n",
        "\t\n",
        "L=250\n",
        "N1=train_1.shape[0]\n",
        "N2=train_2.shape[0]\n",
        "K=N2-L+1\n",
        "S=train_1.shape[1]\n",
        "\n",
        "for i in arguments:\n",
        "\ti=int(i)\n",
        "\tprint(\"Starting \" + str(i) + \" Sensor\")\n",
        "\tUT = PASAD_TRAIN(train_1[:,i-1],N1,L)\n",
        "\tprint(\"Pasad Complete\")\t\t\t\t\t\n",
        "\ts=np.zeros(L)\n",
        "\ts=s.T\n",
        "\tfor j in range(0,K-1):\n",
        "\t\tH=hankel(train_2[0:L,i-1],train_2[L:N2,i-1])\n",
        "\t\tH.reshape((250,H.shape[1]))\n",
        "\t\txi=H[:,j]\n",
        "\t\ts=s+xi\n",
        "\n",
        "\tc=s/K\n",
        "\tcc=UT.dot(c)\t\t\t\t\t\t\n",
        "\tprint(\"Centroid found\")\t\n",
        "\td=np.zeros(K)\n",
        "\t\n",
        "\tfor j in range(0,K-1):\t\n",
        "\t\td[j]=np.linalg.norm(cc-UT.dot(H[:,j]))\n",
        "\t\n",
        "\tdmax=np.amax(d)\t\t\t\t\t\t\n",
        "\tprint(\"Departure Calculated: \" + str(dmax))\n",
        "\tN=N1+N2\n",
        "\tx=train_2[N2-L:N2,i-1]\n",
        "\tTsize=test.shape[0]\n",
        "\tD=np.zeros(Tsize)\n",
        "\tfor j in range(N+1,4800):\n",
        "\t\t#print(x.shape)\n",
        "\t\tx=x[1:]\t\n",
        "\t\t#print(x.shape)\n",
        "\t\tx=np.insert(x,L-2,test[j-N,i-1])\n",
        "\t\tx=x.T\n",
        "\t\ty= cc-UT.dot(x)\n",
        "\t\tD[j-N-1]=(y.T).dot(y)\n",
        "\t\t\n",
        "\tDmax=np.amax(D)\n",
        "\t\t\n",
        "\tif (Dmax> dmax):\n",
        "\t\tprint(\"Dmax: \" +str(Dmax))\n",
        "\telse:\n",
        "\t\tprint(\"No Alarm! Dmax: \"+str(Dmax))\n",
        "\n",
        "\n",
        "\n",
        "\tdd=np.insert(d,K,D)\n",
        "\t\n",
        "\tplt.subplot(2,1,1)\n",
        "\tplt.ylabel('XMEAS('+str(i)+')')\n",
        "\tplt.plot(np.arange(0,4801,1),data[:,i-1])\n",
        "\n",
        "\tplt.subplot(2,1,2)\n",
        "\tplt.xlabel('Time')\n",
        "\tplt.ylabel('Departure Score')\n",
        "\tplt.plot(np.arange(750,4801,1),dd)\n",
        "\tplt.plot(np.arange(750,4801,1),np.repeat(dmax,4051))\n",
        "\tprefix=sys.argv[1]\t\t\n",
        "\tplt.savefig(prefix[5:8]+'_sensor_'+str(i)+'.pdf')\n",
        "\tplt.close()\n",
        "\t\t\t\n",
        "\t\n"
      ],
      "execution_count": null,
      "outputs": []
    }
  ]
}